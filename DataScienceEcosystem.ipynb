# Data Science Tools and Ecosystem

In this notebook, Data Science Tools and Ecosystem are summarized.

<b>Objectives:</b>
* List popular languages for Data Science
* List commonly used libraries used by Data Scientists
* Evaluating arithmetic expression in Python

Some of the popular languages that Data Scientists use are:
<ol>
    <li>Python</li>
    <li>R</li>
    <li>SQL</li>
</ol>

Some of the commonly used libraries used by Data Scientists include:
<ol>
<li>NumPy</li>
<li>SciPy</li>
<li>Plotly</li>
</ol>

| Data Science Tools |
| --- |
| Python |
| --- |
| R |
| --- |
| SQL |

### Below are a few examples of evaluating arithmetic expressions in Python

# This a simple arithmetic expression to mutiply then add integers
(3*4)+5

# This will convert 200 minutes to hours by diving by 60
200/60

## Author
Gbemileke Falade
